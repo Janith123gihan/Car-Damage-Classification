{
  "cells": [
    {
      "cell_type": "markdown",
      "metadata": {
        "id": "view-in-github",
        "colab_type": "text"
      },
      "source": [
        "<a href=\"https://colab.research.google.com/github/Janith123gihan/Car-Damage-Classification/blob/main/Car_Damage_Classification_Transfer_Learning_Resnet50.ipynb\" target=\"_parent\"><img src=\"https://colab.research.google.com/assets/colab-badge.svg\" alt=\"Open In Colab\"/></a>"
      ]
    },
    {
      "cell_type": "code",
      "execution_count": null,
      "metadata": {
        "id": "HsUaIKhkhyJA",
        "colab": {
          "base_uri": "https://localhost:8080/"
        },
        "outputId": "964edc2f-e2b3-4b13-d675-72b30e0cedd8"
      },
      "outputs": [
        {
          "output_type": "stream",
          "name": "stdout",
          "text": [
            "Mounted at /content/drive\n"
          ]
        }
      ],
      "source": [
        "from google.colab import drive\n",
        "drive.mount('/content/drive')"
      ],
      "id": "HsUaIKhkhyJA"
    },
    {
      "cell_type": "code",
      "execution_count": null,
      "metadata": {
        "id": "YvopXDqD6ae9"
      },
      "outputs": [],
      "source": [
        "from keras.preprocessing.image import ImageDataGenerator\n",
        "from tensorflow.keras.utils import load_img\n",
        "from tensorflow.keras import layers\n",
        "import tensorflow as tf\n",
        "from matplotlib import pyplot as plt\n",
        "import os\n",
        "import cv2\n",
        "import numpy as np\n",
        "from sklearn.metrics import confusion_matrix\n",
        "from sklearn.metrics import plot_confusion_matrix"
      ],
      "id": "YvopXDqD6ae9"
    },
    {
      "cell_type": "code",
      "execution_count": null,
      "metadata": {
        "id": "h6NCGodc56Hh",
        "colab": {
          "base_uri": "https://localhost:8080/"
        },
        "outputId": "e49d67d8-0086-46a5-a8a4-ab1f928df471"
      },
      "outputs": [
        {
          "output_type": "stream",
          "name": "stdout",
          "text": [
            "2.9.2\n",
            "Found GPU at: /device:GPU:0\n"
          ]
        }
      ],
      "source": [
        "\n",
        "print(tf.__version__)\n",
        "device_name = tf.test.gpu_device_name()\n",
        "if device_name != '/device:GPU:0':\n",
        "  raise SystemError('GPU device not found')\n",
        "print('Found GPU at: {}'.format(device_name))"
      ],
      "id": "h6NCGodc56Hh"
    },
    {
      "cell_type": "code",
      "execution_count": null,
      "metadata": {
        "id": "Ta-6z74h5-p_"
      },
      "outputs": [],
      "source": [
        "def set_data(train,test, validation ,batchSize, image_size):\n",
        " \n",
        " Image_size = [image_size,image_size]\n",
        "\n",
        " train_datagen= ImageDataGenerator(rotation_range=10,\n",
        "                                   width_shift_range=0.2,\n",
        "                                   height_shift_range=0.2,\n",
        "                                   shear_range=0.2,rescale=1./255,\n",
        "                                   zoom_range=0.2,\n",
        "                                   horizontal_flip=0.5, vertical_flip=0.5\n",
        "                                   )\n",
        "\n",
        " test_datagen = ImageDataGenerator(rescale=1./255)\n",
        "\n",
        " val_datagen = ImageDataGenerator(rescale=1./255)\n",
        "\n",
        " #Training dataset\n",
        " train_set = train_datagen.flow_from_directory(\n",
        "                train,\n",
        "                target_size=Image_size,\n",
        "                batch_size=batchSize, \n",
        "                color_mode=\"rgb\",\n",
        "                #shuffle=True,             \n",
        "                interpolation='bicubic',\n",
        "                class_mode='categorical'\n",
        "                )\n",
        " #Testing dataset\n",
        " test_set= test_datagen.flow_from_directory(\n",
        "              test,\n",
        "              target_size=Image_size,\n",
        "              color_mode = \"rgb\", interpolation='bicubic',\n",
        "              class_mode='categorical', shuffle=False\n",
        "             )\n",
        " validation_set = val_datagen.flow_from_directory(\n",
        "    validation, # same directory as training data\n",
        "    target_size=Image_size,\n",
        "    color_mode = \"rgb\",interpolation='bicubic',\n",
        "    batch_size=batchSize)\n",
        " return train_set, test_set, validation_set;"
      ],
      "id": "Ta-6z74h5-p_"
    },
    {
      "cell_type": "code",
      "execution_count": null,
      "metadata": {
        "id": "UJKLH2uvq8t2"
      },
      "outputs": [],
      "source": [
        "def unfreeze_model(model, num_of_layers):\n",
        "    for layer in model.layers[num_of_layers:]:\n",
        "        if not isinstance(layer, layers.BatchNormalization):\n",
        "            layer.trainable = True\n",
        "    return model"
      ],
      "id": "UJKLH2uvq8t2"
    },
    {
      "cell_type": "code",
      "execution_count": null,
      "metadata": {
        "id": "XaPXnPNe9Sp7",
        "colab": {
          "base_uri": "https://localhost:8080/"
        },
        "outputId": "9e846493-33ab-4e9f-b033-596858146f51"
      },
      "outputs": [
        {
          "output_type": "stream",
          "name": "stdout",
          "text": [
            "Model: \"sequential_1\"\n",
            "_________________________________________________________________\n",
            " Layer (type)                Output Shape              Param #   \n",
            "=================================================================\n",
            " resnet50 (Functional)       (None, 7, 7, 2048)        23587712  \n",
            "                                                                 \n",
            " global_average_pooling2d_1   (None, 2048)             0         \n",
            " (GlobalAveragePooling2D)                                        \n",
            "                                                                 \n",
            " batch_normalization (BatchN  (None, 2048)             8192      \n",
            " ormalization)                                                   \n",
            "                                                                 \n",
            " dense (Dense)               (None, 256)               524544    \n",
            "                                                                 \n",
            " batch_normalization_1 (Batc  (None, 256)              1024      \n",
            " hNormalization)                                                 \n",
            "                                                                 \n",
            " dense_1 (Dense)             (None, 128)               32896     \n",
            "                                                                 \n",
            " dropout (Dropout)           (None, 128)               0         \n",
            "                                                                 \n",
            " batch_normalization_2 (Batc  (None, 128)              512       \n",
            " hNormalization)                                                 \n",
            "                                                                 \n",
            " dense_2 (Dense)             (None, 64)                8256      \n",
            "                                                                 \n",
            " dropout_1 (Dropout)         (None, 64)                0         \n",
            "                                                                 \n",
            " batch_normalization_3 (Batc  (None, 64)               256       \n",
            " hNormalization)                                                 \n",
            "                                                                 \n",
            " dense_3 (Dense)             (None, 3)                 195       \n",
            "                                                                 \n",
            "=================================================================\n",
            "Total params: 24,163,587\n",
            "Trainable params: 1,625,603\n",
            "Non-trainable params: 22,537,984\n",
            "_________________________________________________________________\n"
          ]
        }
      ],
      "source": [
        "from keras.layers.pooling.global_average_pooling2d import GlobalAveragePooling2D\n",
        "from keras.applications import ResNet50\n",
        "from tensorflow.keras.layers import AveragePooling2D\n",
        "from tensorflow.keras.layers import Dense\n",
        "from tensorflow.keras.layers import Flatten\n",
        "from tensorflow.keras.layers import Dropout\n",
        "from tensorflow.keras.layers import Input\n",
        "from tensorflow.keras.models import Model\n",
        "from keras.models import Sequential\n",
        "from keras.layers import BatchNormalization\n",
        "\n",
        "base_model = ResNet50(weights=\"imagenet\", include_top=False, input_tensor=Input(shape = (224,224,3)))\n",
        "\n",
        "# head_model = Model(base_model.input, base_model.layers[-2].output)\n",
        "# head_model.trainable = False\n",
        "# head_model = unfreeze_model(head_model,-3)\n",
        "\n",
        "# x = head_model.output\n",
        "# se = layers.GlobalAveragePooling2D(name=\"ch_pool\")(x)\n",
        "# # se = layers.Reshape((1,1,512))(se)\n",
        "# se = layers.Dense(32,activation=\"swish\",kernel_initializer='he_normal', use_bias=False)(se)\n",
        "# se = layers.Dense(512,activation=\"sigmoid\",kernel_initializer='he_normal', use_bias=False)(se)\n",
        "# # x = layers.Multiply()([se, x])\n",
        "# x = layers.GlobalAveragePooling2D(name=\"avg_pool\")(x)\n",
        "# x = layers.BatchNormalization()(x)\n",
        "# x = layers.Dropout(0.4)(x)\n",
        "# x = layers.Dense(256, activation=\"relu\")(x)\n",
        "# x = layers.Dropout(0.3)(x)\n",
        "# x = layers.Dense(128, activation=\"relu\")(x)\n",
        "# x = layers.Dropout(0.3)(x)\n",
        "\n",
        "for layer in base_model.layers[:170]:\n",
        "    layer.trainable = False\n",
        "\n",
        "model = Sequential()\n",
        "# model.add(K.layers.Lambda(lambda x: tf.image.resize(x, (224, 224))))\n",
        "model.add(base_model)\n",
        "model.add(GlobalAveragePooling2D())\n",
        "model.add(BatchNormalization())\n",
        "model.add(Dense(256, activation='relu'))\n",
        "model.add(BatchNormalization())\n",
        "model.add(Dense(128, activation='relu'))\n",
        "model.add(Dropout(0.3))\n",
        "model.add(BatchNormalization())\n",
        "model.add(Dense(64, activation='relu'))\n",
        "model.add(Dropout(0.3))\n",
        "model.add(BatchNormalization())\n",
        "model.add(Dense(3, activation='softmax'))\n",
        "\n",
        "\n",
        "model.compile(loss='categorical_crossentropy',optimizer='adam',metrics=['accuracy'])\n",
        "\n",
        "model.summary()\n",
        "\n",
        "\n",
        "\n",
        "\n",
        "\n",
        "\n",
        "\n",
        "\n",
        "\n",
        "\n",
        "\n",
        "\n",
        "# outputs = layers.Dense(3, activation=\"softmax\", name=\"pred\")(x)\n",
        "# model = tf.keras.Model(head_model.input, outputs)\n",
        "# optimizer = tf.keras.optimizers.Adam(learning_rate=0.0002)\n",
        "# model.compile(optimizer=optimizer, loss=\"categorical_crossentropy\", metrics=[\"categorical_accuracy\"])\n",
        "# model.summary()"
      ],
      "id": "XaPXnPNe9Sp7"
    },
    {
      "cell_type": "code",
      "execution_count": null,
      "metadata": {
        "id": "be8r_DOPOdot"
      },
      "outputs": [],
      "source": [
        "def plot_hist(hist):\n",
        "    plt.figure(3)\n",
        "    plt.plot(hist.history[\"accuracy\"])\n",
        "    plt.plot(hist.history[\"val_accuracy\"])\n",
        "    plt.title(\"model accuracy\")\n",
        "    plt.ylabel(\"accuracy\")\n",
        "    plt.xlabel(\"epoch\")\n",
        "    plt.legend([\"train\", \"validation\"], loc=\"upper left\")\n",
        "    plt.show()\n",
        "    \n",
        "    plt.figure(4)\n",
        "    plt.plot(history.history['loss'])\n",
        "    plt.plot(history.history['val_loss'])\n",
        "    plt.title('model loss')\n",
        "    plt.ylabel('loss')\n",
        "    plt.xlabel('epoch')\n",
        "    plt.legend(['train', 'val'], loc='upper left')\n",
        "    plt.show()"
      ],
      "id": "be8r_DOPOdot"
    },
    {
      "cell_type": "code",
      "execution_count": null,
      "metadata": {
        "colab": {
          "base_uri": "https://localhost:8080/"
        },
        "id": "6PpuVyFDv0HT",
        "outputId": "f740c6e5-d002-45a6-a9c4-53eba86c35e8"
      },
      "outputs": [
        {
          "output_type": "stream",
          "name": "stdout",
          "text": [
            "Found 784 images belonging to 3 classes.\n",
            "Found 195 images belonging to 3 classes.\n",
            "Found 171 images belonging to 3 classes.\n",
            "Epoch 1/80\n",
            "25/25 [==============================] - 13s 521ms/step - loss: 0.8523 - accuracy: 0.6059 - val_loss: 2.1887 - val_accuracy: 0.4211\n",
            "Epoch 2/80\n",
            "25/25 [==============================] - 13s 509ms/step - loss: 0.8767 - accuracy: 0.5765 - val_loss: 1.6852 - val_accuracy: 0.4327\n",
            "Epoch 3/80\n",
            "25/25 [==============================] - 13s 509ms/step - loss: 0.8353 - accuracy: 0.6020 - val_loss: 1.0313 - val_accuracy: 0.5789\n",
            "Epoch 4/80\n",
            "25/25 [==============================] - 13s 508ms/step - loss: 0.8605 - accuracy: 0.6020 - val_loss: 1.0305 - val_accuracy: 0.5789\n",
            "Epoch 5/80\n",
            "25/25 [==============================] - 13s 512ms/step - loss: 0.8390 - accuracy: 0.6071 - val_loss: 1.4062 - val_accuracy: 0.4620\n",
            "Epoch 6/80\n",
            "25/25 [==============================] - 13s 503ms/step - loss: 0.8520 - accuracy: 0.5931 - val_loss: 1.1865 - val_accuracy: 0.5088\n",
            "Epoch 7/80\n",
            "25/25 [==============================] - 13s 505ms/step - loss: 0.8639 - accuracy: 0.6008 - val_loss: 1.3913 - val_accuracy: 0.4971\n",
            "Epoch 8/80\n",
            "25/25 [==============================] - 14s 555ms/step - loss: 0.8428 - accuracy: 0.6199 - val_loss: 1.3938 - val_accuracy: 0.4211\n",
            "Epoch 9/80\n",
            "25/25 [==============================] - 13s 513ms/step - loss: 0.8699 - accuracy: 0.5867 - val_loss: 2.1694 - val_accuracy: 0.4094\n",
            "Epoch 10/80\n",
            "25/25 [==============================] - 13s 507ms/step - loss: 0.8628 - accuracy: 0.5969 - val_loss: 1.6387 - val_accuracy: 0.4444\n",
            "Epoch 11/80\n",
            "25/25 [==============================] - 13s 500ms/step - loss: 0.8491 - accuracy: 0.6148 - val_loss: 1.3346 - val_accuracy: 0.5029\n",
            "Epoch 12/80\n",
            "25/25 [==============================] - 13s 505ms/step - loss: 0.8402 - accuracy: 0.5995 - val_loss: 1.1327 - val_accuracy: 0.4971\n",
            "Epoch 13/80\n",
            "25/25 [==============================] - 13s 506ms/step - loss: 0.8591 - accuracy: 0.6071 - val_loss: 0.9755 - val_accuracy: 0.5731\n",
            "Epoch 14/80\n",
            "25/25 [==============================] - 12s 499ms/step - loss: 0.8529 - accuracy: 0.6135 - val_loss: 1.1049 - val_accuracy: 0.4912\n",
            "Epoch 15/80\n",
            "25/25 [==============================] - 13s 501ms/step - loss: 0.8347 - accuracy: 0.6122 - val_loss: 0.9998 - val_accuracy: 0.5322\n",
            "Epoch 16/80\n",
            "25/25 [==============================] - 13s 500ms/step - loss: 0.8499 - accuracy: 0.6046 - val_loss: 1.1101 - val_accuracy: 0.4327\n",
            "Epoch 17/80\n",
            "25/25 [==============================] - 13s 511ms/step - loss: 0.8528 - accuracy: 0.5995 - val_loss: 1.2371 - val_accuracy: 0.4444\n",
            "Epoch 18/80\n",
            "25/25 [==============================] - 13s 504ms/step - loss: 0.8539 - accuracy: 0.6173 - val_loss: 1.0310 - val_accuracy: 0.5497\n",
            "Epoch 19/80\n",
            "25/25 [==============================] - 13s 502ms/step - loss: 0.8398 - accuracy: 0.6110 - val_loss: 1.0523 - val_accuracy: 0.4795\n",
            "Epoch 20/80\n",
            "25/25 [==============================] - 12s 496ms/step - loss: 0.8665 - accuracy: 0.6110 - val_loss: 1.0518 - val_accuracy: 0.5205\n",
            "Epoch 21/80\n",
            "25/25 [==============================] - 13s 500ms/step - loss: 0.8426 - accuracy: 0.6212 - val_loss: 1.1951 - val_accuracy: 0.4327\n",
            "Epoch 22/80\n",
            "25/25 [==============================] - 12s 499ms/step - loss: 0.8698 - accuracy: 0.5740 - val_loss: 1.0355 - val_accuracy: 0.5556\n",
            "Epoch 23/80\n",
            "21/25 [========================>.....] - ETA: 1s - loss: 0.8612 - accuracy: 0.5967"
          ]
        }
      ],
      "source": [
        "\n",
        "batchSize = 32\n",
        "epoches =80;\n",
        "image_size = 224;\n",
        "train_path = '/content/drive/MyDrive/Car Damage Classification/training'\n",
        "test_path = '/content/drive/MyDrive/Car Damage Classification/testing'\n",
        "validation_path = '/content/drive/MyDrive/Car Damage Classification/validation'\n",
        "\n",
        "\n",
        "\n",
        "\n",
        "train_set, test_set, validation_set = set_data(train_path,test_path,validation_path, batchSize, image_size)\n",
        "\n",
        "history=model.fit(train_set,  validation_data= validation_set,epochs = epoches)\n",
        "plot_hist(history)\n"
      ],
      "id": "6PpuVyFDv0HT"
    },
    {
      "cell_type": "code",
      "execution_count": null,
      "metadata": {
        "id": "VMemO1yyq3Bf"
      },
      "outputs": [],
      "source": [
        "model.save('CNN-Car_Damage_Classification.h5')"
      ],
      "id": "VMemO1yyq3Bf"
    },
    {
      "cell_type": "markdown",
      "metadata": {
        "id": "C5l2oGpAtXWk"
      },
      "source": [
        "# Testing Model"
      ],
      "id": "C5l2oGpAtXWk"
    },
    {
      "cell_type": "code",
      "execution_count": null,
      "metadata": {
        "id": "PpNyswT7OpgI",
        "colab": {
          "base_uri": "https://localhost:8080/"
        },
        "outputId": "549b3274-40f4-411e-b4c9-dae6490806a3"
      },
      "outputs": [
        {
          "output_type": "stream",
          "name": "stderr",
          "text": [
            "WARNING:absl:Found untraced functions such as _jit_compiled_convolution_op, _jit_compiled_convolution_op, _jit_compiled_convolution_op, _jit_compiled_convolution_op, _jit_compiled_convolution_op while saving (showing 5 of 53). These functions will not be directly callable after loading.\n"
          ]
        },
        {
          "output_type": "stream",
          "name": "stdout",
          "text": [
            "7/7 [==============================] - 120s 20s/step - loss: 1.3297 - accuracy: 0.4564\n",
            "7/7 [==============================] - 2s 136ms/step\n",
            "0.4564102590084076\n"
          ]
        }
      ],
      "source": [
        "\n",
        "model.save('/content/drive/MyDrive/Car Damage Classification/my_model')\n",
        "results = model.evaluate(test_set,batch_size=32)\n",
        "accuracy = results[1]\n",
        "predict_labels=model.predict(test_set,batch_size=batchSize)\n",
        "test_labels=test_set.classes\n",
        "print(accuracy)\n"
      ],
      "id": "PpNyswT7OpgI"
    },
    {
      "cell_type": "code",
      "execution_count": null,
      "metadata": {
        "id": "sHAOYrliWEOX",
        "colab": {
          "base_uri": "https://localhost:8080/"
        },
        "outputId": "6b94c29e-bb91-46d3-8a2e-d04dbc1b102c"
      },
      "outputs": [
        {
          "output_type": "stream",
          "name": "stdout",
          "text": [
            "[0 0 0 0 0 0 0 0 0 0 0 0 0 0 0 0 0 0 0 0 0 0 0 0 0 0 0 0 0 0 0 0 0 0 0 0 0\n",
            " 0 0 0 0 0 0 0 0 0 0 0 0 0 0 0 0 0 0 1 1 1 1 1 1 1 1 1 1 1 1 1 1 1 1 1 1 1\n",
            " 1 1 1 1 1 1 1 1 1 1 1 1 1 1 1 1 1 1 1 1 1 1 1 1 1 1 1 1 1 1 1 1 1 1 1 1 1\n",
            " 1 1 1 1 1 1 1 2 2 2 2 2 2 2 2 2 2 2 2 2 2 2 2 2 2 2 2 2 2 2 2 2 2 2 2 2 2\n",
            " 2 2 2 2 2 2 2 2 2 2 2 2 2 2 2 2 2 2 2 2 2 2 2 2 2 2 2 2 2 2 2 2 2 2 2 2 2\n",
            " 2 2 2 2 2 2 2 2 2 2]\n",
            "[0 1 0 2 2 2 2 1 0 1 1 2 2 2 1 0 1 1 2 2 2 2 1 2 2 2 1 2 2 1 2 2 1 1 1 1 1\n",
            " 1 2 1 0 1 1 2 1 2 1 1 1 1 2 2 1 1 2 2 2 1 1 1 2 2 1 1 2 2 2 1 2 2 2 1 2 1\n",
            " 2 2 2 2 2 2 2 2 1 2 2 1 2 2 2 2 1 2 2 1 2 2 2 2 1 0 2 2 2 2 1 1 2 2 2 2 2\n",
            " 2 2 2 2 2 2 2 2 2 2 1 2 2 1 2 2 2 2 2 2 2 2 2 2 2 2 1 2 2 2 2 2 2 2 2 2 2\n",
            " 2 2 2 2 1 2 2 2 2 1 2 2 2 2 2 1 2 2 2 2 2 2 2 2 2 2 2 2 2 2 1 2 2 2 2 2 2\n",
            " 2 2 2 2 2 2 2 2 1 2]\n",
            "\n",
            "Classification Report\n",
            "\n",
            "              precision    recall  f1-score   support\n",
            "\n",
            "       minor       0.83      0.09      0.16        55\n",
            "    moderate       0.31      0.24      0.27        63\n",
            "      severe       0.49      0.90      0.64        77\n",
            "\n",
            "    accuracy                           0.46       195\n",
            "   macro avg       0.54      0.41      0.36       195\n",
            "weighted avg       0.53      0.46      0.38       195\n",
            "\n",
            "Confusion Matrix\n",
            "\n",
            "[[ 5 26 24]\n",
            " [ 1 15 47]\n",
            " [ 0  8 69]]\n"
          ]
        }
      ],
      "source": [
        "print(test_labels)\n",
        "print(predict_labels.argmax(axis=1))\n",
        "from sklearn.metrics import classification_report\n",
        "print('\\nClassification Report\\n')\n",
        "print(classification_report(test_labels, predict_labels.argmax(axis=1), target_names=['minor', 'moderate', 'severe']))\n",
        "confusion = confusion_matrix(test_labels, predict_labels.argmax(axis=1))\n",
        "print('Confusion Matrix\\n')\n",
        "print(confusion)\n"
      ],
      "id": "sHAOYrliWEOX"
    }
  ],
  "metadata": {
    "accelerator": "GPU",
    "colab": {
      "provenance": [],
      "include_colab_link": true
    },
    "gpuClass": "standard",
    "kernelspec": {
      "display_name": "Python 3 (ipykernel)",
      "language": "python",
      "name": "python3"
    },
    "language_info": {
      "codemirror_mode": {
        "name": "ipython",
        "version": 3
      },
      "file_extension": ".py",
      "mimetype": "text/x-python",
      "name": "python",
      "nbconvert_exporter": "python",
      "pygments_lexer": "ipython3",
      "version": "3.9.13"
    }
  },
  "nbformat": 4,
  "nbformat_minor": 5
}