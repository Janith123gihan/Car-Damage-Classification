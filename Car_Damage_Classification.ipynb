{
  "cells": [
    {
      "cell_type": "markdown",
      "metadata": {
        "id": "view-in-github",
        "colab_type": "text"
      },
      "source": [
        "<a href=\"https://colab.research.google.com/github/Janith123gihan/Car-Damage-Classification/blob/main/Car_Damage_Classification.ipynb\" target=\"_parent\"><img src=\"https://colab.research.google.com/assets/colab-badge.svg\" alt=\"Open In Colab\"/></a>"
      ]
    },
    {
      "cell_type": "code",
      "execution_count": null,
      "metadata": {
        "colab": {
          "base_uri": "https://localhost:8080/"
        },
        "id": "HsUaIKhkhyJA",
        "outputId": "a80621d1-9a11-4d1a-c25a-5d28df251ef4"
      },
      "outputs": [
        {
          "output_type": "stream",
          "name": "stdout",
          "text": [
            "Drive already mounted at /content/drive; to attempt to forcibly remount, call drive.mount(\"/content/drive\", force_remount=True).\n"
          ]
        }
      ],
      "source": [
        "from google.colab import drive\n",
        "drive.mount('/content/drive')"
      ],
      "id": "HsUaIKhkhyJA"
    },
    {
      "cell_type": "code",
      "execution_count": null,
      "metadata": {
        "colab": {
          "base_uri": "https://localhost:8080/"
        },
        "id": "22fb3d32",
        "outputId": "da5d720f-d760-4eaf-dcef-3332b57361b0"
      },
      "outputs": [
        {
          "output_type": "stream",
          "name": "stdout",
          "text": [
            "{'minor': 0, 'severe': 1, 'moderate': 2}\n",
            "['minor', 'severe', 'moderate']\n",
            "[0 1 2]\n"
          ]
        }
      ],
      "source": [
        "import cv2,os\n",
        "import numpy as np\n",
        "\n",
        "\n",
        "data_path= '/content/drive/MyDrive/Car Damage Classification/training'\n",
        "val_path= '/content/drive/MyDrive/Car Damage Classification/validation'\n",
        "\n",
        "categories = os.listdir(data_path) #it will list the categories of the images\n",
        "\n",
        "labels = np.arange(len(categories)) #it will create numpy array with no. of categories\n",
        "\n",
        "label_dict = dict(zip(categories,labels )) #creating a dictionary with labels and categories\n",
        "\n",
        "print(label_dict)\n",
        "print(categories)\n",
        "print(labels)\n"
      ],
      "id": "22fb3d32"
    },
    {
      "cell_type": "code",
      "execution_count": null,
      "metadata": {
        "colab": {
          "base_uri": "https://localhost:8080/"
        },
        "id": "4fde33cf",
        "outputId": "bcc90e94-17e0-4724-837a-3864468f8ab2"
      },
      "outputs": [
        {
          "output_type": "stream",
          "name": "stdout",
          "text": [
            "/content/drive/MyDrive/Car Damage Classification/training/minor\n",
            "/content/drive/MyDrive/Car Damage Classification/training/severe\n",
            "/content/drive/MyDrive/Car Damage Classification/training/moderate\n",
            "/content/drive/MyDrive/Car Damage Classification/validation/minor\n",
            "/content/drive/MyDrive/Car Damage Classification/validation/severe\n",
            "/content/drive/MyDrive/Car Damage Classification/validation/moderate\n"
          ]
        }
      ],
      "source": [
        "def Resize(path):\n",
        "  img_size = 250\n",
        "\n",
        "  data = []\n",
        "  target = []\n",
        "\n",
        "  for category in categories: #it runs three times\n",
        "      \n",
        "      folder_path=os.path.join(path,category) #folderpath with category name like minor\n",
        "      print(folder_path)\n",
        "      img_names = os.listdir(folder_path) #it returns each and every images in folder path.\n",
        "      \n",
        "      for img_name in img_names:\n",
        "          img_path=os.path.join(folder_path,img_name) #it combines folder path with image name\n",
        "          img = cv2.imread(img_path) #then we can read image one by one and do some modifications\n",
        "          \n",
        "          try:           \n",
        "              resized = cv2.resize(img,(img_size,img_size)) #images are in differernt sizes so convert them to same size\n",
        "              data.append(resized)\n",
        "              target.append(label_dict[category]) #target for particular image\n",
        "\n",
        "          except Exception as e:\n",
        "              \n",
        "              print(img_path,e)  \n",
        "  return data, target\n",
        "\n",
        "data , target = Resize(data_path)  \n",
        "val_data , val_target = Resize(val_path)"
      ],
      "id": "4fde33cf"
    },
    {
      "cell_type": "code",
      "execution_count": null,
      "metadata": {
        "id": "a7979c3a"
      },
      "outputs": [],
      "source": [
        "data = np.array(data) \n",
        "target = np.array(target)\n",
        "\n",
        "val_data = np.array(val_data) \n",
        "val_target = np.array(val_target)"
      ],
      "id": "a7979c3a"
    },
    {
      "cell_type": "code",
      "execution_count": null,
      "metadata": {
        "colab": {
          "base_uri": "https://localhost:8080/"
        },
        "id": "46d9d40f",
        "outputId": "fc5fe271-b604-47b5-df9d-ca2fe516a6dd"
      },
      "outputs": [
        {
          "output_type": "stream",
          "name": "stdout",
          "text": [
            "(784, 250, 250, 3) (784,)\n",
            "(171, 250, 250, 3) (171,)\n"
          ]
        }
      ],
      "source": [
        "print(data.shape,target.shape)\n",
        "print(val_data.shape,val_target.shape)"
      ],
      "id": "46d9d40f"
    },
    {
      "cell_type": "code",
      "execution_count": null,
      "metadata": {
        "colab": {
          "base_uri": "https://localhost:8080/",
          "height": 286
        },
        "id": "834f1ee1",
        "outputId": "7a5977aa-432b-4575-f743-36a5baf734bb"
      },
      "outputs": [
        {
          "output_type": "execute_result",
          "data": {
            "text/plain": [
              "<matplotlib.image.AxesImage at 0x7fa491e20df0>"
            ]
          },
          "metadata": {},
          "execution_count": 6
        },
        {
          "output_type": "display_data",
          "data": {
            "text/plain": [
              "<Figure size 432x288 with 1 Axes>"
            ],
            "image/png": "[encoded data removed]"
          },
          "metadata": {
            "needs_background": "light"
          }
        }
      ],
      "source": [
        "from matplotlib import pyplot as plt\n",
        "plt.imshow(val_data[1])\n"
      ],
      "id": "834f1ee1"
    },
    {
      "cell_type": "code",
      "execution_count": null,
      "metadata": {
        "colab": {
          "base_uri": "https://localhost:8080/"
        },
        "id": "ba84482f",
        "outputId": "85f1a28d-f0be-4a89-a254-c8d5604b4ff9"
      },
      "outputs": [
        {
          "output_type": "stream",
          "name": "stdout",
          "text": [
            "(784, 250, 250, 3)\n",
            "(171, 250, 250, 3)\n"
          ]
        }
      ],
      "source": [
        "data_new = data/255.0 #in here normalized images o/w loss become high\n",
        "validation_data_new = val_data/255.0 #in here normalized images o/w loss become high\n",
        "\n",
        "# data_new = data_new.reshape(data_new.shape[0],data_new.shape[1],data_new.shape[1],3) \n",
        "# validation_data_new = validation_data_new.reshape(validation_data_new.shape[0],validation_data_new.shape[1],validation_data_new.shape[1],3) \n",
        "\n",
        "#in here instead of size we have to pass 3 for rgb if grayscale we have to pass 1\n",
        "\n",
        "print(data_new.shape)\n",
        "print(validation_data_new.shape)\n",
        "\n",
        "from keras.utils import np_utils\n",
        "\n",
        "target_new = np_utils.to_categorical(target) #in here categorical encoding as an example is minor damage it represented as 1 0 0\n",
        "validation_target_new = np_utils.to_categorical(val_target) #in here categorical encoding as an example is minor damage it represented as 1 0 0"
      ],
      "id": "ba84482f"
    },
    {
      "cell_type": "code",
      "execution_count": null,
      "metadata": {
        "id": "0ff40634"
      },
      "outputs": [],
      "source": [
        "np.save('data',data_new) #data are saved as physical file\n",
        "np.save('target',target_new) #targets are saved as physical file\n",
        "\n",
        "np.save('val_data',validation_data_new) #data are saved as physical file\n",
        "np.save('val_target',validation_target_new) #targets are saved as physical file"
      ],
      "id": "0ff40634"
    },
    {
      "cell_type": "code",
      "execution_count": null,
      "metadata": {
        "colab": {
          "base_uri": "https://localhost:8080/"
        },
        "id": "dcf5936a",
        "outputId": "0c1de10a-bbe9-4550-9c05-05f6fe32ec62"
      },
      "outputs": [
        {
          "output_type": "execute_result",
          "data": {
            "text/plain": [
              "(784, 3)"
            ]
          },
          "metadata": {},
          "execution_count": 9
        }
      ],
      "source": [
        "target_new.shape"
      ],
      "id": "dcf5936a"
    },
    {
      "cell_type": "code",
      "execution_count": null,
      "metadata": {
        "colab": {
          "base_uri": "https://localhost:8080/"
        },
        "id": "31a259b2",
        "outputId": "d7cb583d-5351-4a0e-92a8-d7908dd648b7"
      },
      "outputs": [
        {
          "output_type": "execute_result",
          "data": {
            "text/plain": [
              "(171, 3)"
            ]
          },
          "metadata": {},
          "execution_count": 10
        }
      ],
      "source": [
        "validation_target_new.shape"
      ],
      "id": "31a259b2"
    },
    {
      "cell_type": "markdown",
      "metadata": {
        "id": "0eLsoEkYoczl"
      },
      "source": [
        "# **Training Model**"
      ],
      "id": "0eLsoEkYoczl"
    },
    {
      "cell_type": "code",
      "execution_count": null,
      "metadata": {
        "colab": {
          "base_uri": "https://localhost:8080/"
        },
        "id": "q-VPRSvXobHg",
        "outputId": "ef744ecd-9f32-46a4-ac18-911891819d69"
      },
      "outputs": [
        {
          "output_type": "stream",
          "name": "stdout",
          "text": [
            "(784, 250, 250, 3) (784, 3)\n"
          ]
        }
      ],
      "source": [
        "data = np.load('/content/data.npy')\n",
        "target = np.load('/content/target.npy') \n",
        "\n",
        "val_data = np.load('/content/val_data.npy')\n",
        "val_target = np.load('/content/val_target.npy') \n",
        "\n",
        "print(data.shape,target.shape)"
      ],
      "id": "q-VPRSvXobHg"
    },
    {
      "cell_type": "code",
      "execution_count": null,
      "metadata": {
        "colab": {
          "base_uri": "https://localhost:8080/"
        },
        "id": "I0YvteHzoayq",
        "outputId": "79cc1f80-4f7a-40ce-f983-6bd0410112e5"
      },
      "outputs": [
        {
          "output_type": "stream",
          "name": "stdout",
          "text": [
            "Model: \"sequential\"\n",
            "_________________________________________________________________\n",
            " Layer (type)                Output Shape              Param #   \n",
            "=================================================================\n",
            " conv2d (Conv2D)             (None, 248, 248, 64)      1792      \n",
            "                                                                 \n",
            " max_pooling2d (MaxPooling2D  (None, 124, 124, 64)     0         \n",
            " )                                                               \n",
            "                                                                 \n",
            " conv2d_1 (Conv2D)           (None, 122, 122, 128)     73856     \n",
            "                                                                 \n",
            " conv2d_2 (Conv2D)           (None, 120, 120, 256)     295168    \n",
            "                                                                 \n",
            " max_pooling2d_1 (MaxPooling  (None, 60, 60, 256)      0         \n",
            " 2D)                                                             \n",
            "                                                                 \n",
            " conv2d_3 (Conv2D)           (None, 58, 58, 512)       1180160   \n",
            "                                                                 \n",
            " global_average_pooling2d (G  (None, 512)              0         \n",
            " lobalAveragePooling2D)                                          \n",
            "                                                                 \n",
            " dropout (Dropout)           (None, 512)               0         \n",
            "                                                                 \n",
            " dense (Dense)               (None, 256)               131328    \n",
            "                                                                 \n",
            " dropout_1 (Dropout)         (None, 256)               0         \n",
            "                                                                 \n",
            " dense_1 (Dense)             (None, 128)               32896     \n",
            "                                                                 \n",
            " dropout_2 (Dropout)         (None, 128)               0         \n",
            "                                                                 \n",
            " dense_2 (Dense)             (None, 64)                8256      \n",
            "                                                                 \n",
            " dense_3 (Dense)             (None, 3)                 195       \n",
            "                                                                 \n",
            "=================================================================\n",
            "Total params: 1,723,651\n",
            "Trainable params: 1,723,651\n",
            "Non-trainable params: 0\n",
            "_________________________________________________________________\n"
          ]
        }
      ],
      "source": [
        "from keras.layers.pooling.global_average_pooling2d import GlobalAveragePooling2D\n",
        "from keras.models import Sequential\n",
        "from keras.layers import Dense,Activation,Flatten\n",
        "from keras.layers import Conv2D,MaxPooling2D,Dropout\n",
        "\n",
        "model = Sequential() #in here empty neural network model is created\n",
        "\n",
        "model.add(Conv2D(64,(3,3),activation=\"relu\", input_shape=data.shape[1:])) #convolution layer is added with 256 kernals, 3x3 kernel and size with 100x100\n",
        "model.add(MaxPooling2D(pool_size=(2,2))) #pooling layer for shrink the image\n",
        "\n",
        "model.add(Conv2D(128,(3,3),activation=\"relu\"))\n",
        "# model.add(MaxPooling2D(pool_size=(2,2)))\n",
        "#second convolution layer follwed by relu and maxpooling layer\n",
        "\n",
        "model.add(Conv2D(256,(3,3),activation=\"relu\"))\n",
        "model.add(MaxPooling2D(pool_size=(2,2)))\n",
        "#third convolution layer follwed by relu and maxpooling layer\n",
        "\n",
        "model.add(Conv2D(512,(3,3),activation=\"relu\"))\n",
        "#fourth convolution layer follwed by relu and maxpooling layer\n",
        "\n",
        "model.add(GlobalAveragePooling2D())\n",
        "#model.add(Flatten()) #in here flatten layer is added it converts image into dense layer same as ffnn\n",
        "#flatten layer stacks output convalutions from the second convalution layer\n",
        "\n",
        "model.add(Dropout(0.5)) #it will reduce overfitting\n",
        "model.add(Dense(256,activation='relu'))\n",
        "model.add(Dropout(0.5))\n",
        "model.add(Dense(128,activation='relu'))#dense layer with activation function relu\n",
        "model.add(Dropout(0.5))\n",
        "model.add(Dense(64,activation='relu'))\n",
        "model.add(Dense(3,activation='softmax')) #final layer with 3 neurons\n",
        "\n",
        "model.compile(loss='categorical_crossentropy',optimizer='adam',metrics=['accuracy'])\n",
        "\n",
        "model.summary()"
      ],
      "id": "I0YvteHzoayq"
    },
    {
      "cell_type": "code",
      "execution_count": null,
      "metadata": {
        "id": "bL1IvvZwpLHz"
      },
      "outputs": [],
      "source": [
        "from keras.preprocessing.image import ImageDataGenerator\n",
        "\n",
        "aug = ImageDataGenerator(rotation_range=10 ,zoom_range=0.15, width_shift_range = 0.2, height_shift_range = 0.2, shear_range = 0.15, horizontal_flip = True,fill_mode=\"nearest\")\n",
        "\n",
        "#it will augment images into rotation range between 0 to 20 degrees and zoom with range 0 to 0.15 and width and heigth will be shifted among 0 to 0.2 zoom_range\n",
        "#and shear by range 0.15 and it will flip some images corresponds to horizental axis and fill missing pixels by nearest pixels.\n"
      ],
      "id": "bL1IvvZwpLHz"
    },
    {
      "cell_type": "code",
      "source": [
        "bs = 32\n",
        "history = model.fit(aug.flow(data,target,batch_size = bs),steps_per_epoch = len(data)//bs,\n",
        "          validation_data = (val_data,val_target),validation_steps = len(val_data)//bs,epochs = 50)"
      ],
      "metadata": {
        "colab": {
          "base_uri": "https://localhost:8080/"
        },
        "id": "6PpuVyFDv0HT",
        "outputId": "2c266d44-a52c-40a7-f580-4a59bc03268e"
      },
      "id": "6PpuVyFDv0HT",
      "execution_count": null,
      "outputs": [
        {
          "output_type": "stream",
          "name": "stdout",
          "text": [
            "Epoch 1/80\n",
            "24/24 [==============================] - 27s 834ms/step - loss: 1.1055 - accuracy: 0.3697 - val_loss: 1.0898 - val_accuracy: 0.3977\n",
            "Epoch 2/80\n",
            "24/24 [==============================] - 13s 519ms/step - loss: 1.0930 - accuracy: 0.3963 - val_loss: 1.0891 - val_accuracy: 0.3977\n",
            "Epoch 3/80\n",
            "24/24 [==============================] - 13s 517ms/step - loss: 1.0929 - accuracy: 0.3976 - val_loss: 1.0892 - val_accuracy: 0.3977\n",
            "Epoch 4/80\n",
            "24/24 [==============================] - 13s 534ms/step - loss: 1.0907 - accuracy: 0.3896 - val_loss: 1.0863 - val_accuracy: 0.3977\n",
            "Epoch 5/80\n",
            "24/24 [==============================] - 13s 526ms/step - loss: 1.0914 - accuracy: 0.3936 - val_loss: 1.0803 - val_accuracy: 0.3977\n",
            "Epoch 6/80\n",
            "24/24 [==============================] - 13s 521ms/step - loss: 1.0863 - accuracy: 0.3936 - val_loss: 1.0851 - val_accuracy: 0.3977\n",
            "Epoch 7/80\n",
            "24/24 [==============================] - 12s 513ms/step - loss: 1.0877 - accuracy: 0.3923 - val_loss: 1.0908 - val_accuracy: 0.3977\n",
            "Epoch 8/80\n",
            "24/24 [==============================] - 12s 513ms/step - loss: 1.0932 - accuracy: 0.3843 - val_loss: 1.0887 - val_accuracy: 0.3977\n",
            "Epoch 9/80\n",
            "24/24 [==============================] - 14s 551ms/step - loss: 1.0897 - accuracy: 0.3936 - val_loss: 1.0880 - val_accuracy: 0.3977\n",
            "Epoch 10/80\n",
            "24/24 [==============================] - 12s 512ms/step - loss: 1.0917 - accuracy: 0.3989 - val_loss: 1.0884 - val_accuracy: 0.3977\n",
            "Epoch 11/80\n",
            "24/24 [==============================] - 12s 509ms/step - loss: 1.0922 - accuracy: 0.3936 - val_loss: 1.0887 - val_accuracy: 0.3977\n",
            "Epoch 12/80\n",
            "24/24 [==============================] - 13s 529ms/step - loss: 1.0909 - accuracy: 0.3976 - val_loss: 1.0882 - val_accuracy: 0.3977\n",
            "Epoch 13/80\n",
            "24/24 [==============================] - 12s 506ms/step - loss: 1.0905 - accuracy: 0.3936 - val_loss: 1.0883 - val_accuracy: 0.3977\n",
            "Epoch 14/80\n",
            "24/24 [==============================] - 13s 512ms/step - loss: 1.0919 - accuracy: 0.3896 - val_loss: 1.0882 - val_accuracy: 0.3977\n",
            "Epoch 15/80\n",
            "24/24 [==============================] - 13s 515ms/step - loss: 1.0891 - accuracy: 0.3936 - val_loss: 1.0882 - val_accuracy: 0.3977\n",
            "Epoch 16/80\n",
            "24/24 [==============================] - 12s 507ms/step - loss: 1.0903 - accuracy: 0.3949 - val_loss: 1.0883 - val_accuracy: 0.3977\n",
            "Epoch 17/80\n",
            "24/24 [==============================] - 13s 526ms/step - loss: 1.0889 - accuracy: 0.3949 - val_loss: 1.0882 - val_accuracy: 0.3977\n",
            "Epoch 18/80\n",
            "24/24 [==============================] - 13s 517ms/step - loss: 1.0911 - accuracy: 0.3923 - val_loss: 1.0881 - val_accuracy: 0.3977\n",
            "Epoch 19/80\n",
            "24/24 [==============================] - 13s 519ms/step - loss: 1.0991 - accuracy: 0.3923 - val_loss: 1.0896 - val_accuracy: 0.3977\n",
            "Epoch 20/80\n",
            "24/24 [==============================] - 13s 517ms/step - loss: 1.0913 - accuracy: 0.3936 - val_loss: 1.0891 - val_accuracy: 0.3977\n",
            "Epoch 21/80\n",
            "24/24 [==============================] - 13s 513ms/step - loss: 1.0908 - accuracy: 0.3976 - val_loss: 1.0887 - val_accuracy: 0.3977\n",
            "Epoch 22/80\n",
            "24/24 [==============================] - 12s 511ms/step - loss: 1.0890 - accuracy: 0.3976 - val_loss: 1.0883 - val_accuracy: 0.3977\n",
            "Epoch 23/80\n",
            "24/24 [==============================] - 13s 522ms/step - loss: 1.0914 - accuracy: 0.3854 - val_loss: 1.0886 - val_accuracy: 0.3977\n",
            "Epoch 24/80\n",
            "24/24 [==============================] - 12s 511ms/step - loss: 1.0915 - accuracy: 0.3923 - val_loss: 1.0883 - val_accuracy: 0.3977\n",
            "Epoch 25/80\n",
            "24/24 [==============================] - 12s 514ms/step - loss: 1.0906 - accuracy: 0.3936 - val_loss: 1.0882 - val_accuracy: 0.3977\n",
            "Epoch 26/80\n",
            "24/24 [==============================] - 14s 580ms/step - loss: 1.0893 - accuracy: 0.3923 - val_loss: 1.0883 - val_accuracy: 0.3977\n",
            "Epoch 27/80\n",
            "24/24 [==============================] - 12s 512ms/step - loss: 1.0918 - accuracy: 0.3896 - val_loss: 1.0882 - val_accuracy: 0.3977\n",
            "Epoch 28/80\n",
            "24/24 [==============================] - 13s 514ms/step - loss: 1.0901 - accuracy: 0.3976 - val_loss: 1.0884 - val_accuracy: 0.3977\n",
            "Epoch 29/80\n",
            "24/24 [==============================] - 12s 514ms/step - loss: 1.0914 - accuracy: 0.3883 - val_loss: 1.0882 - val_accuracy: 0.3977\n",
            "Epoch 30/80\n",
            "24/24 [==============================] - 13s 523ms/step - loss: 1.0884 - accuracy: 0.3932 - val_loss: 1.0884 - val_accuracy: 0.3977\n",
            "Epoch 31/80\n",
            "24/24 [==============================] - 12s 508ms/step - loss: 1.0913 - accuracy: 0.3963 - val_loss: 1.0882 - val_accuracy: 0.3977\n",
            "Epoch 32/80\n",
            "24/24 [==============================] - 13s 514ms/step - loss: 1.0915 - accuracy: 0.3910 - val_loss: 1.0885 - val_accuracy: 0.3977\n",
            "Epoch 33/80\n",
            "24/24 [==============================] - 13s 531ms/step - loss: 1.0909 - accuracy: 0.3910 - val_loss: 1.0882 - val_accuracy: 0.3977\n",
            "Epoch 34/80\n",
            "24/24 [==============================] - 14s 585ms/step - loss: 1.0924 - accuracy: 0.3910 - val_loss: 1.0889 - val_accuracy: 0.3977\n",
            "Epoch 35/80\n",
            "24/24 [==============================] - 13s 515ms/step - loss: 1.0883 - accuracy: 0.3923 - val_loss: 1.0883 - val_accuracy: 0.3977\n",
            "Epoch 36/80\n",
            "24/24 [==============================] - 13s 514ms/step - loss: 1.0886 - accuracy: 0.3976 - val_loss: 1.0882 - val_accuracy: 0.3977\n",
            "Epoch 37/80\n",
            "24/24 [==============================] - 12s 512ms/step - loss: 1.0896 - accuracy: 0.3936 - val_loss: 1.0883 - val_accuracy: 0.3977\n",
            "Epoch 38/80\n",
            "24/24 [==============================] - 12s 508ms/step - loss: 1.0884 - accuracy: 0.3963 - val_loss: 1.0882 - val_accuracy: 0.3977\n",
            "Epoch 39/80\n",
            "24/24 [==============================] - 13s 544ms/step - loss: 1.0908 - accuracy: 0.3896 - val_loss: 1.0882 - val_accuracy: 0.3977\n",
            "Epoch 40/80\n",
            "24/24 [==============================] - 13s 514ms/step - loss: 1.0878 - accuracy: 0.4003 - val_loss: 1.0883 - val_accuracy: 0.3977\n",
            "Epoch 41/80\n",
            "24/24 [==============================] - 13s 512ms/step - loss: 1.0928 - accuracy: 0.3910 - val_loss: 1.0886 - val_accuracy: 0.3977\n",
            "Epoch 42/80\n",
            "24/24 [==============================] - 14s 581ms/step - loss: 1.0901 - accuracy: 0.3923 - val_loss: 1.0881 - val_accuracy: 0.3977\n",
            "Epoch 43/80\n",
            "24/24 [==============================] - 13s 514ms/step - loss: 1.0928 - accuracy: 0.3816 - val_loss: 1.0882 - val_accuracy: 0.3977\n",
            "Epoch 44/80\n",
            "24/24 [==============================] - 13s 515ms/step - loss: 1.0932 - accuracy: 0.3843 - val_loss: 1.0889 - val_accuracy: 0.3977\n",
            "Epoch 45/80\n",
            "24/24 [==============================] - 13s 523ms/step - loss: 1.0915 - accuracy: 0.3910 - val_loss: 1.0897 - val_accuracy: 0.4035\n",
            "Epoch 46/80\n",
            "24/24 [==============================] - 13s 523ms/step - loss: 1.0901 - accuracy: 0.3963 - val_loss: 1.0899 - val_accuracy: 0.4035\n",
            "Epoch 47/80\n",
            "24/24 [==============================] - 12s 512ms/step - loss: 1.0908 - accuracy: 0.4043 - val_loss: 1.0938 - val_accuracy: 0.4035\n",
            "Epoch 48/80\n",
            "24/24 [==============================] - 13s 516ms/step - loss: 1.0850 - accuracy: 0.4043 - val_loss: 1.0959 - val_accuracy: 0.3918\n",
            "Epoch 49/80\n",
            "24/24 [==============================] - 12s 512ms/step - loss: 1.0928 - accuracy: 0.3870 - val_loss: 1.0888 - val_accuracy: 0.3977\n",
            "Epoch 50/80\n",
            "24/24 [==============================] - 14s 592ms/step - loss: 1.0913 - accuracy: 0.3883 - val_loss: 1.0893 - val_accuracy: 0.3977\n",
            "Epoch 51/80\n",
            "24/24 [==============================] - 12s 510ms/step - loss: 1.0913 - accuracy: 0.3923 - val_loss: 1.0882 - val_accuracy: 0.3977\n",
            "Epoch 52/80\n",
            "24/24 [==============================] - 13s 515ms/step - loss: 1.0913 - accuracy: 0.3936 - val_loss: 1.0882 - val_accuracy: 0.3977\n",
            "Epoch 53/80\n",
            "24/24 [==============================] - 12s 510ms/step - loss: 1.0933 - accuracy: 0.3883 - val_loss: 1.0882 - val_accuracy: 0.3977\n",
            "Epoch 54/80\n",
            "24/24 [==============================] - 12s 510ms/step - loss: 1.0895 - accuracy: 0.3949 - val_loss: 1.0888 - val_accuracy: 0.3977\n",
            "Epoch 55/80\n",
            "24/24 [==============================] - 12s 512ms/step - loss: 1.0907 - accuracy: 0.3963 - val_loss: 1.0887 - val_accuracy: 0.3977\n",
            "Epoch 56/80\n",
            "24/24 [==============================] - 12s 512ms/step - loss: 1.0903 - accuracy: 0.3923 - val_loss: 1.0884 - val_accuracy: 0.3977\n",
            "Epoch 57/80\n",
            "24/24 [==============================] - 12s 512ms/step - loss: 1.0901 - accuracy: 0.3963 - val_loss: 1.0882 - val_accuracy: 0.3977\n",
            "Epoch 58/80\n",
            "24/24 [==============================] - 13s 512ms/step - loss: 1.0877 - accuracy: 0.4016 - val_loss: 1.0882 - val_accuracy: 0.3977\n",
            "Epoch 59/80\n",
            "24/24 [==============================] - 12s 511ms/step - loss: 1.0903 - accuracy: 0.3910 - val_loss: 1.0882 - val_accuracy: 0.3977\n",
            "Epoch 60/80\n",
            "24/24 [==============================] - 12s 513ms/step - loss: 1.0886 - accuracy: 0.3910 - val_loss: 1.0883 - val_accuracy: 0.3977\n",
            "Epoch 61/80\n",
            "24/24 [==============================] - 12s 514ms/step - loss: 1.0913 - accuracy: 0.3949 - val_loss: 1.0885 - val_accuracy: 0.3977\n",
            "Epoch 62/80\n",
            "24/24 [==============================] - 12s 510ms/step - loss: 1.0889 - accuracy: 0.3936 - val_loss: 1.0884 - val_accuracy: 0.3977\n",
            "Epoch 63/80\n",
            "24/24 [==============================] - 12s 509ms/step - loss: 1.0897 - accuracy: 0.3989 - val_loss: 1.0883 - val_accuracy: 0.3977\n",
            "Epoch 64/80\n",
            "24/24 [==============================] - 12s 514ms/step - loss: 1.0899 - accuracy: 0.3936 - val_loss: 1.0882 - val_accuracy: 0.3977\n",
            "Epoch 65/80\n",
            "24/24 [==============================] - 12s 510ms/step - loss: 1.0905 - accuracy: 0.3949 - val_loss: 1.0883 - val_accuracy: 0.3977\n",
            "Epoch 66/80\n",
            "24/24 [==============================] - 12s 514ms/step - loss: 1.0937 - accuracy: 0.3883 - val_loss: 1.0882 - val_accuracy: 0.3977\n",
            "Epoch 67/80\n",
            "24/24 [==============================] - 14s 585ms/step - loss: 1.0877 - accuracy: 0.3976 - val_loss: 1.0883 - val_accuracy: 0.3977\n",
            "Epoch 68/80\n",
            "24/24 [==============================] - 13s 520ms/step - loss: 1.0911 - accuracy: 0.3923 - val_loss: 1.0883 - val_accuracy: 0.3977\n",
            "Epoch 69/80\n",
            "24/24 [==============================] - 13s 523ms/step - loss: 1.0900 - accuracy: 0.3936 - val_loss: 1.0883 - val_accuracy: 0.3977\n",
            "Epoch 70/80\n",
            "24/24 [==============================] - 13s 521ms/step - loss: 1.0886 - accuracy: 0.3963 - val_loss: 1.0883 - val_accuracy: 0.3977\n",
            "Epoch 71/80\n",
            "24/24 [==============================] - 13s 522ms/step - loss: 1.0883 - accuracy: 0.3949 - val_loss: 1.0883 - val_accuracy: 0.3977\n",
            "Epoch 72/80\n",
            "24/24 [==============================] - 13s 521ms/step - loss: 1.0884 - accuracy: 0.3989 - val_loss: 1.0882 - val_accuracy: 0.3977\n",
            "Epoch 73/80\n",
            "24/24 [==============================] - 13s 529ms/step - loss: 1.0892 - accuracy: 0.3945 - val_loss: 1.0882 - val_accuracy: 0.3977\n",
            "Epoch 74/80\n",
            "24/24 [==============================] - 13s 522ms/step - loss: 1.0902 - accuracy: 0.3923 - val_loss: 1.0883 - val_accuracy: 0.3977\n",
            "Epoch 75/80\n",
            "24/24 [==============================] - 14s 597ms/step - loss: 1.0884 - accuracy: 0.3989 - val_loss: 1.0882 - val_accuracy: 0.3977\n",
            "Epoch 76/80\n",
            "24/24 [==============================] - 13s 521ms/step - loss: 1.0943 - accuracy: 0.3843 - val_loss: 1.0885 - val_accuracy: 0.3977\n",
            "Epoch 77/80\n",
            "24/24 [==============================] - 13s 522ms/step - loss: 1.0890 - accuracy: 0.3963 - val_loss: 1.0883 - val_accuracy: 0.3977\n",
            "Epoch 78/80\n",
            "24/24 [==============================] - 13s 519ms/step - loss: 1.0897 - accuracy: 0.3936 - val_loss: 1.0884 - val_accuracy: 0.3977\n",
            "Epoch 79/80\n",
            "24/24 [==============================] - 13s 515ms/step - loss: 1.0913 - accuracy: 0.3883 - val_loss: 1.0883 - val_accuracy: 0.3977\n",
            "Epoch 80/80\n",
            "24/24 [==============================] - 13s 522ms/step - loss: 1.0901 - accuracy: 0.3923 - val_loss: 1.0886 - val_accuracy: 0.3977\n"
          ]
        }
      ]
    },
    {
      "cell_type": "code",
      "execution_count": null,
      "metadata": {
        "id": "gWWbGT7ZpfR1"
      },
      "outputs": [],
      "source": [
        "# history = model.fit(data,target,validation_data=(validation_data,validation_target),epochs=50)"
      ],
      "id": "gWWbGT7ZpfR1"
    },
    {
      "cell_type": "code",
      "execution_count": null,
      "metadata": {
        "colab": {
          "base_uri": "https://localhost:8080/",
          "height": 282
        },
        "id": "FGmJpFbspfIQ",
        "outputId": "57c36e3c-303a-406a-f14d-cf59c0c672c2"
      },
      "outputs": [
        {
          "output_type": "execute_result",
          "data": {
            "text/plain": [
              "[<matplotlib.lines.Line2D at 0x7fa3b003bc70>]"
            ]
          },
          "metadata": {},
          "execution_count": 16
        },
        {
          "output_type": "display_data",
          "data": {
            "text/plain": [
              "<Figure size 432x288 with 1 Axes>"
            ],
            "image/png": "[encoded data removed]"
          },
          "metadata": {
            "needs_background": "light"
          }
        }
      ],
      "source": [
        "from matplotlib import pyplot as plt\n",
        "\n",
        "plt.plot(history.history['accuracy'],'b')\n",
        "plt.plot(history.history['val_accuracy'],'r')\n",
        "\n"
      ],
      "id": "FGmJpFbspfIQ"
    },
    {
      "cell_type": "code",
      "execution_count": null,
      "metadata": {
        "id": "adjMfUzxpe66",
        "colab": {
          "base_uri": "https://localhost:8080/",
          "height": 282
        },
        "outputId": "97104b76-da38-418c-d62c-68b17acf4b44"
      },
      "outputs": [
        {
          "output_type": "execute_result",
          "data": {
            "text/plain": [
              "[<matplotlib.lines.Line2D at 0x7fa3acf7e580>]"
            ]
          },
          "metadata": {},
          "execution_count": 17
        },
        {
          "output_type": "display_data",
          "data": {
            "text/plain": [
              "<Figure size 432x288 with 1 Axes>"
            ],
            "image/png": "[encoded data removed]"
          },
          "metadata": {
            "needs_background": "light"
          }
        }
      ],
      "source": [
        "from matplotlib import pyplot as plt\n",
        "\n",
        "plt.plot(history.history['loss'],'b')\n",
        "plt.plot(history.history['val_loss'],'r')"
      ],
      "id": "adjMfUzxpe66"
    },
    {
      "cell_type": "code",
      "execution_count": null,
      "metadata": {
        "id": "VMemO1yyq3Bf"
      },
      "outputs": [],
      "source": [
        "model.save('CNN-Car_Damage_Classification.h5')"
      ],
      "id": "VMemO1yyq3Bf"
    },
    {
      "cell_type": "markdown",
      "metadata": {
        "id": "C5l2oGpAtXWk"
      },
      "source": [
        "# Testing Model"
      ],
      "id": "C5l2oGpAtXWk"
    },
    {
      "cell_type": "code",
      "execution_count": null,
      "metadata": {
        "id": "ExsvQz8wrbJl"
      },
      "outputs": [],
      "source": [
        "model.load_weights('/content/CNN-Car_Damage_Classification.h5')"
      ],
      "id": "ExsvQz8wrbJl"
    },
    {
      "cell_type": "markdown",
      "metadata": {
        "id": "1uXzJdlc3t2s"
      },
      "source": [
        "Testing Minor images"
      ],
      "id": "1uXzJdlc3t2s"
    },
    {
      "cell_type": "code",
      "execution_count": null,
      "metadata": {
        "id": "M7821BCxr8MS",
        "colab": {
          "base_uri": "https://localhost:8080/"
        },
        "outputId": "b154ca1f-e4eb-424e-b5cd-1b888c020f50"
      },
      "outputs": [
        {
          "output_type": "stream",
          "name": "stdout",
          "text": [
            "1/1 [==============================] - 0s 420ms/step\n",
            "[[0.28974363 0.38420698 0.32604942]] 1 moderate 38\n",
            "1/1 [==============================] - 0s 17ms/step\n",
            "[[0.28974384 0.38420656 0.32604954]] 1 moderate 38\n",
            "1/1 [==============================] - 0s 20ms/step\n",
            "[[0.28974366 0.38420698 0.32604942]] 1 moderate 38\n",
            "1/1 [==============================] - 0s 17ms/step\n",
            "[[0.28974363 0.38420698 0.32604942]] 1 moderate 38\n",
            "1/1 [==============================] - 0s 16ms/step\n",
            "[[0.28974363 0.38420698 0.32604942]] 1 moderate 38\n",
            "1/1 [==============================] - 0s 18ms/step\n",
            "[[0.28974366 0.38420698 0.32604942]] 1 moderate 38\n",
            "1/1 [==============================] - 0s 19ms/step\n",
            "[[0.28974363 0.38420698 0.32604942]] 1 moderate 38\n",
            "1/1 [==============================] - 0s 17ms/step\n",
            "[[0.28974354 0.38420686 0.3260496 ]] 1 moderate 38\n",
            "1/1 [==============================] - 0s 19ms/step\n",
            "[[0.28974345 0.38420677 0.3260498 ]] 1 moderate 38\n",
            "1/1 [==============================] - 0s 17ms/step\n",
            "[[0.28974363 0.38420698 0.32604942]] 1 moderate 38\n",
            "1/1 [==============================] - 0s 22ms/step\n",
            "[[0.28974366 0.38420698 0.32604942]] 1 moderate 38\n",
            "1/1 [==============================] - 0s 17ms/step\n",
            "[[0.28974357 0.38420683 0.3260496 ]] 1 moderate 38\n",
            "1/1 [==============================] - 0s 19ms/step\n",
            "[[0.28974363 0.38420698 0.32604942]] 1 moderate 38\n",
            "1/1 [==============================] - 0s 17ms/step\n",
            "[[0.28974363 0.38420698 0.32604942]] 1 moderate 38\n",
            "1/1 [==============================] - 0s 19ms/step\n",
            "[[0.28974363 0.38420698 0.32604942]] 1 moderate 38\n",
            "1/1 [==============================] - 0s 18ms/step\n",
            "[[0.28974363 0.38420698 0.32604942]] 1 moderate 38\n",
            "1/1 [==============================] - 0s 19ms/step\n",
            "[[0.28974363 0.38420698 0.32604942]] 1 moderate 38\n",
            "1/1 [==============================] - 0s 18ms/step\n",
            "[[0.2897434  0.38420683 0.32604977]] 1 moderate 38\n",
            "1/1 [==============================] - 0s 17ms/step\n",
            "[[0.28974354 0.38420692 0.3260495 ]] 1 moderate 38\n",
            "1/1 [==============================] - 0s 21ms/step\n",
            "[[0.28974363 0.38420698 0.32604942]] 1 moderate 38\n",
            "1/1 [==============================] - 0s 19ms/step\n",
            "[[0.28974363 0.38420698 0.32604942]] 1 moderate 38\n",
            "1/1 [==============================] - 0s 20ms/step\n",
            "[[0.28974354 0.38420692 0.32604948]] 1 moderate 38\n",
            "1/1 [==============================] - 0s 19ms/step\n",
            "[[0.2897436  0.38420692 0.32604945]] 1 moderate 38\n",
            "1/1 [==============================] - 0s 21ms/step\n",
            "[[0.28974375 0.38420635 0.32604992]] 1 moderate 38\n",
            "1/1 [==============================] - 0s 16ms/step\n",
            "[[0.28974363 0.38420698 0.32604942]] 1 moderate 38\n",
            "1/1 [==============================] - 0s 18ms/step\n",
            "[[0.28974348 0.38420686 0.32604957]] 1 moderate 38\n",
            "1/1 [==============================] - 0s 19ms/step\n",
            "[[0.28974363 0.38420698 0.32604942]] 1 moderate 38\n",
            "1/1 [==============================] - 0s 21ms/step\n",
            "[[0.28974363 0.38420698 0.32604942]] 1 moderate 38\n",
            "1/1 [==============================] - 0s 18ms/step\n",
            "[[0.28974363 0.38420698 0.32604942]] 1 moderate 38\n",
            "1/1 [==============================] - 0s 22ms/step\n",
            "[[0.28974363 0.38420692 0.32604948]] 1 moderate 38\n",
            "1/1 [==============================] - 0s 21ms/step\n",
            "[[0.28974363 0.38420698 0.32604942]] 1 moderate 38\n",
            "1/1 [==============================] - 0s 18ms/step\n",
            "[[0.28974345 0.38420686 0.3260497 ]] 1 moderate 38\n",
            "1/1 [==============================] - 0s 18ms/step\n",
            "[[0.28974363 0.38420698 0.32604942]] 1 moderate 38\n",
            "1/1 [==============================] - 0s 20ms/step\n",
            "[[0.28974363 0.38420698 0.32604942]] 1 moderate 38\n",
            "1/1 [==============================] - 0s 17ms/step\n",
            "[[0.28974363 0.38420698 0.32604942]] 1 moderate 38\n",
            "1/1 [==============================] - 0s 18ms/step\n",
            "[[0.28974363 0.38420698 0.32604942]] 1 moderate 38\n",
            "1/1 [==============================] - 0s 22ms/step\n",
            "[[0.2897436  0.38420695 0.32604945]] 1 moderate 38\n",
            "1/1 [==============================] - 0s 21ms/step\n",
            "[[0.28974363 0.38420698 0.32604942]] 1 moderate 38\n",
            "1/1 [==============================] - 0s 21ms/step\n",
            "[[0.28974357 0.38420683 0.32604957]] 1 moderate 38\n",
            "1/1 [==============================] - 0s 20ms/step\n",
            "[[0.28974363 0.38420698 0.32604942]] 1 moderate 38\n",
            "1/1 [==============================] - 0s 18ms/step\n",
            "[[0.28974363 0.38420698 0.32604942]] 1 moderate 38\n",
            "1/1 [==============================] - 0s 22ms/step\n",
            "[[0.28974363 0.38420698 0.32604942]] 1 moderate 38\n",
            "1/1 [==============================] - 0s 17ms/step\n",
            "[[0.28974363 0.38420698 0.32604942]] 1 moderate 38\n",
            "1/1 [==============================] - 0s 26ms/step\n",
            "[[0.28974363 0.38420692 0.32604942]] 1 moderate 38\n",
            "1/1 [==============================] - 0s 17ms/step\n",
            "[[0.28974253 0.3842062  0.3260513 ]] 1 moderate 38\n",
            "1/1 [==============================] - 0s 16ms/step\n",
            "[[0.28974357 0.38420695 0.32604945]] 1 moderate 38\n",
            "1/1 [==============================] - 0s 16ms/step\n",
            "[[0.28974363 0.38420698 0.32604942]] 1 moderate 38\n",
            "1/1 [==============================] - 0s 19ms/step\n",
            "[[0.28974354 0.38420692 0.32604945]] 1 moderate 38\n",
            "1/1 [==============================] - 0s 16ms/step\n",
            "[[0.28974366 0.38420698 0.32604942]] 1 moderate 38\n",
            "1/1 [==============================] - 0s 19ms/step\n",
            "[[0.28974363 0.38420698 0.32604942]] 1 moderate 38\n",
            "1/1 [==============================] - 0s 20ms/step\n",
            "[[0.28974363 0.38420698 0.32604942]] 1 moderate 38\n",
            "1/1 [==============================] - 0s 18ms/step\n",
            "[[0.28974327 0.3842067  0.32604998]] 1 moderate 38\n",
            "1/1 [==============================] - 0s 18ms/step\n",
            "[[0.28974363 0.38420698 0.32604942]] 1 moderate 38\n",
            "1/1 [==============================] - 0s 16ms/step\n",
            "[[0.28974363 0.38420698 0.32604942]] 1 moderate 38\n",
            "1/1 [==============================] - 0s 18ms/step\n",
            "[[0.28974342 0.38420686 0.3260497 ]] 1 moderate 38\n",
            "1/1 [==============================] - 0s 19ms/step\n",
            "[[0.28974354 0.38420692 0.3260495 ]] 1 moderate 38\n",
            "1/1 [==============================] - 0s 16ms/step\n",
            "[[0.28974363 0.38420698 0.32604942]] 1 moderate 38\n",
            "1/1 [==============================] - 0s 17ms/step\n",
            "[[0.28974354 0.3842069  0.32604954]] 1 moderate 38\n",
            "1/1 [==============================] - 0s 18ms/step\n",
            "[[0.2897436  0.38420695 0.32604942]] 1 moderate 38\n",
            "1/1 [==============================] - 0s 17ms/step\n",
            "[[0.28974363 0.38420698 0.32604942]] 1 moderate 38\n",
            "1/1 [==============================] - 0s 17ms/step\n",
            "[[0.28974366 0.38420698 0.32604942]] 1 moderate 38\n",
            "1/1 [==============================] - 0s 18ms/step\n",
            "[[0.2897436  0.38420695 0.32604942]] 1 moderate 38\n",
            "1/1 [==============================] - 0s 18ms/step\n",
            "[[0.28974363 0.38420698 0.32604942]] 1 moderate 38\n",
            "1/1 [==============================] - 0s 18ms/step\n",
            "[[0.2897436  0.38420695 0.32604942]] 1 moderate 38\n",
            "1/1 [==============================] - 0s 20ms/step\n",
            "[[0.2897433  0.38420665 0.32604998]] 1 moderate 38\n",
            "1/1 [==============================] - 0s 20ms/step\n",
            "[[0.28974363 0.38420698 0.32604942]] 1 moderate 38\n",
            "1/1 [==============================] - 0s 18ms/step\n",
            "[[0.28974363 0.38420698 0.32604942]] 1 moderate 38\n",
            "1/1 [==============================] - 0s 18ms/step\n",
            "[[0.28974357 0.38420692 0.32604948]] 1 moderate 38\n",
            "1/1 [==============================] - 0s 17ms/step\n",
            "[[0.28974345 0.38420686 0.3260497 ]] 1 moderate 38\n",
            "1/1 [==============================] - 0s 17ms/step\n",
            "[[0.28974354 0.38420513 0.32605135]] 1 moderate 38\n",
            "1/1 [==============================] - 0s 19ms/step\n",
            "[[0.2897435  0.38420692 0.32604963]] 1 moderate 38\n",
            "1/1 [==============================] - 0s 19ms/step\n",
            "[[0.28974363 0.38420698 0.32604942]] 1 moderate 38\n",
            "1/1 [==============================] - 0s 20ms/step\n",
            "[[0.28974363 0.38420695 0.32604942]] 1 moderate 38\n",
            "1/1 [==============================] - 0s 18ms/step\n",
            "[[0.28974363 0.38420698 0.32604942]] 1 moderate 38\n",
            "1/1 [==============================] - 0s 21ms/step\n",
            "[[0.28974366 0.38420698 0.32604942]] 1 moderate 38\n",
            "1/1 [==============================] - 0s 20ms/step\n",
            "[[0.28974363 0.38420698 0.32604942]] 1 moderate 38\n",
            "1/1 [==============================] - 0s 20ms/step\n",
            "[[0.2897436  0.38420695 0.32604945]] 1 moderate 38\n",
            "1/1 [==============================] - 0s 19ms/step\n",
            "[[0.28974363 0.38420698 0.32604942]] 1 moderate 38\n",
            "1/1 [==============================] - 0s 18ms/step\n",
            "[[0.28974363 0.38420698 0.32604942]] 1 moderate 38\n",
            "1/1 [==============================] - 0s 18ms/step\n",
            "[[0.28974357 0.38420677 0.32604963]] 1 moderate 38\n",
            "1/1 [==============================] - 0s 19ms/step\n",
            "[[0.2897435 0.3842069 0.3260496]] 1 moderate 38\n",
            "1/1 [==============================] - 0s 19ms/step\n",
            "[[0.28974348 0.38420686 0.32604966]] 1 moderate 38\n",
            "1/1 [==============================] - 0s 19ms/step\n",
            "[[0.2897435 0.3842069 0.3260496]] 1 moderate 38\n",
            "1/1 [==============================] - 0s 18ms/step\n",
            "[[0.28974333 0.38420668 0.32604995]] 1 moderate 38\n",
            "1/1 [==============================] - 0s 24ms/step\n",
            "[[0.28974363 0.38420695 0.32604945]] 1 moderate 38\n",
            "1/1 [==============================] - 0s 23ms/step\n",
            "[[0.28974363 0.38420698 0.32604942]] 1 moderate 38\n",
            "1/1 [==============================] - 0s 22ms/step\n",
            "[[0.28974342 0.38420686 0.32604975]] 1 moderate 38\n",
            "1/1 [==============================] - 0s 30ms/step\n",
            "[[0.2897437  0.38420686 0.32604942]] 1 moderate 38\n",
            "1/1 [==============================] - 0s 27ms/step\n",
            "[[0.28974363 0.38420698 0.32604942]] 1 moderate 38\n",
            "1/1 [==============================] - 0s 21ms/step\n",
            "[[0.28974366 0.38420698 0.32604942]] 1 moderate 38\n",
            "1/1 [==============================] - 0s 18ms/step\n",
            "[[0.28974333 0.38420668 0.32604995]] 1 moderate 38\n",
            "1/1 [==============================] - 0s 17ms/step\n",
            "[[0.28974363 0.38420698 0.32604942]] 1 moderate 38\n",
            "1/1 [==============================] - 0s 17ms/step\n",
            "[[0.28974363 0.38420698 0.32604942]] 1 moderate 38\n",
            "1/1 [==============================] - 0s 26ms/step\n",
            "[[0.28974304 0.3842058  0.32605112]] 1 moderate 38\n",
            "1/1 [==============================] - 0s 18ms/step\n",
            "[[0.28974363 0.38420698 0.32604942]] 1 moderate 38\n",
            "1/1 [==============================] - 0s 17ms/step\n",
            "[[0.2897432  0.38420647 0.32605028]] 1 moderate 38\n",
            "1/1 [==============================] - 0s 17ms/step\n",
            "[[0.28974363 0.38420698 0.32604942]] 1 moderate 38\n",
            "1/1 [==============================] - 0s 19ms/step\n",
            "[[0.28974363 0.38420698 0.32604942]] 1 moderate 38\n",
            "1/1 [==============================] - 0s 17ms/step\n",
            "[[0.28974345 0.38420638 0.3260502 ]] 1 moderate 38\n",
            "1/1 [==============================] - 0s 20ms/step\n",
            "[[0.28974363 0.38420695 0.32604942]] 1 moderate 38\n",
            "1/1 [==============================] - 0s 16ms/step\n",
            "[[0.28974274 0.38420588 0.32605138]] 1 moderate 38\n",
            "1/1 [==============================] - 0s 17ms/step\n",
            "[[0.28974348 0.38420686 0.32604957]] 1 moderate 38\n",
            "1/1 [==============================] - 0s 18ms/step\n",
            "[[0.28974348 0.38420686 0.32604963]] 1 moderate 38\n",
            "1/1 [==============================] - 0s 19ms/step\n",
            "[[0.28974363 0.38420698 0.32604942]] 1 moderate 38\n",
            "1/1 [==============================] - 0s 17ms/step\n",
            "[[0.2897436  0.38420695 0.32604942]] 1 moderate 38\n",
            "1/1 [==============================] - 0s 17ms/step\n",
            "[[0.2897432  0.38420665 0.3260501 ]] 1 moderate 38\n",
            "1/1 [==============================] - 0s 24ms/step\n",
            "[[0.28974336 0.38420677 0.32604986]] 1 moderate 38\n",
            "1/1 [==============================] - 0s 19ms/step\n",
            "[[0.28974345 0.38420686 0.3260497 ]] 1 moderate 38\n",
            "1/1 [==============================] - 0s 16ms/step\n",
            "[[0.28974357 0.3842069  0.3260496 ]] 1 moderate 38\n",
            "1/1 [==============================] - 0s 19ms/step\n",
            "[[0.28974363 0.38420698 0.32604942]] 1 moderate 38\n",
            "1/1 [==============================] - 0s 17ms/step\n",
            "[[0.28974363 0.38420692 0.32604945]] 1 moderate 38\n",
            "1/1 [==============================] - 0s 20ms/step\n",
            "[[0.28974363 0.38420698 0.32604942]] 1 moderate 38\n",
            "1/1 [==============================] - 0s 18ms/step\n",
            "[[0.2897436  0.38420695 0.32604942]] 1 moderate 38\n",
            "1/1 [==============================] - 0s 19ms/step\n",
            "[[0.28974363 0.38420698 0.32604942]] 1 moderate 38\n",
            "1/1 [==============================] - 0s 17ms/step\n",
            "[[0.28974363 0.38420698 0.32604942]] 1 moderate 38\n",
            "1/1 [==============================] - 0s 19ms/step\n",
            "[[0.28974363 0.38420698 0.32604942]] 1 moderate 38\n",
            "1/1 [==============================] - 0s 18ms/step\n",
            "[[0.28974363 0.38420698 0.32604942]] 1 moderate 38\n",
            "1/1 [==============================] - 0s 21ms/step\n",
            "[[0.28974363 0.38420692 0.3260495 ]] 1 moderate 38\n",
            "1/1 [==============================] - 0s 17ms/step\n",
            "[[0.28974363 0.38420698 0.32604942]] 1 moderate 38\n",
            "1/1 [==============================] - 0s 18ms/step\n",
            "[[0.28974363 0.38420698 0.32604942]] 1 moderate 38\n",
            "1/1 [==============================] - 0s 18ms/step\n",
            "[[0.2897435  0.38420692 0.32604954]] 1 moderate 38\n",
            "1/1 [==============================] - 0s 20ms/step\n",
            "[[0.28974363 0.38420698 0.32604942]] 1 moderate 38\n",
            "1/1 [==============================] - 0s 17ms/step\n",
            "[[0.2897434  0.38420677 0.32604983]] 1 moderate 38\n",
            "1/1 [==============================] - 0s 17ms/step\n",
            "[[0.28974363 0.38420695 0.32604945]] 1 moderate 38\n",
            "1/1 [==============================] - 0s 18ms/step\n",
            "[[0.2897436  0.3842069  0.32604948]] 1 moderate 38\n",
            "1/1 [==============================] - 0s 17ms/step\n",
            "[[0.2897434  0.38420677 0.3260498 ]] 1 moderate 38\n",
            "1/1 [==============================] - 0s 17ms/step\n",
            "[[0.28974366 0.38420698 0.32604942]] 1 moderate 38\n",
            "1/1 [==============================] - 0s 18ms/step\n",
            "[[0.28974363 0.38420698 0.32604942]] 1 moderate 38\n",
            "1/1 [==============================] - 0s 18ms/step\n",
            "[[0.28974363 0.38420698 0.32604942]] 1 moderate 38\n",
            "1/1 [==============================] - 0s 17ms/step\n",
            "[[0.2897436 0.3842069 0.3260495]] 1 moderate 38\n",
            "1/1 [==============================] - 0s 17ms/step\n",
            "[[0.28974363 0.38420698 0.32604942]] 1 moderate 38\n",
            "1/1 [==============================] - 0s 20ms/step\n",
            "[[0.28974357 0.38420695 0.32604945]] 1 moderate 38\n",
            "1/1 [==============================] - 0s 19ms/step\n",
            "[[0.28974357 0.38420686 0.32604963]] 1 moderate 38\n",
            "1/1 [==============================] - 0s 18ms/step\n",
            "[[0.28974363 0.38420698 0.32604942]] 1 moderate 38\n",
            "1/1 [==============================] - 0s 18ms/step\n",
            "[[0.28974402 0.38420567 0.3260503 ]] 1 moderate 38\n",
            "1/1 [==============================] - 0s 22ms/step\n",
            "[[0.2897433  0.3842066  0.32605004]] 1 moderate 38\n",
            "1/1 [==============================] - 0s 16ms/step\n",
            "[[0.28974363 0.38420695 0.32604942]] 1 moderate 38\n",
            "1/1 [==============================] - 0s 16ms/step\n",
            "[[0.28974316 0.38420656 0.32605022]] 1 moderate 38\n",
            "1/1 [==============================] - 0s 17ms/step\n",
            "[[0.2897436  0.38420695 0.32604945]] 1 moderate 38\n",
            "1/1 [==============================] - 0s 15ms/step\n",
            "[[0.28974354 0.38420692 0.3260495 ]] 1 moderate 38\n",
            "1/1 [==============================] - 0s 18ms/step\n",
            "[[0.2897436  0.38420695 0.32604942]] 1 moderate 38\n",
            "1/1 [==============================] - 0s 22ms/step\n",
            "[[0.2897436  0.3842069  0.32604954]] 1 moderate 38\n",
            "1/1 [==============================] - 0s 16ms/step\n",
            "[[0.28974363 0.38420692 0.32604942]] 1 moderate 38\n",
            "1/1 [==============================] - 0s 17ms/step\n",
            "[[0.28974354 0.38420692 0.3260495 ]] 1 moderate 38\n",
            "1/1 [==============================] - 0s 17ms/step\n",
            "[[0.28974363 0.38420698 0.32604942]] 1 moderate 38\n",
            "1/1 [==============================] - 0s 19ms/step\n",
            "[[0.2897436  0.38420695 0.32604942]] 1 moderate 38\n",
            "1/1 [==============================] - 0s 20ms/step\n",
            "[[0.28974345 0.38420683 0.32604972]] 1 moderate 38\n",
            "1/1 [==============================] - 0s 17ms/step\n",
            "[[0.28974357 0.38420692 0.3260495 ]] 1 moderate 38\n",
            "1/1 [==============================] - 0s 19ms/step\n",
            "[[0.28974316 0.3842063  0.32605052]] 1 moderate 38\n",
            "1/1 [==============================] - 0s 17ms/step\n",
            "[[0.28974345 0.38420686 0.3260497 ]] 1 moderate 38\n",
            "1/1 [==============================] - 0s 19ms/step\n",
            "[[0.28974366 0.38420698 0.32604942]] 1 moderate 38\n",
            "1/1 [==============================] - 0s 18ms/step\n",
            "[[0.2897433  0.38420618 0.3260505 ]] 1 moderate 38\n",
            "1/1 [==============================] - 0s 17ms/step\n",
            "[[0.28974363 0.38420695 0.32604942]] 1 moderate 38\n",
            "1/1 [==============================] - 0s 18ms/step\n",
            "[[0.28974324 0.38420668 0.3260501 ]] 1 moderate 38\n",
            "1/1 [==============================] - 0s 21ms/step\n",
            "[[0.28974363 0.38420698 0.32604942]] 1 moderate 38\n",
            "1/1 [==============================] - 0s 17ms/step\n",
            "[[0.2897436  0.38420695 0.32604942]] 1 moderate 38\n",
            "1/1 [==============================] - 0s 16ms/step\n",
            "[[0.2897441  0.38420546 0.32605043]] 1 moderate 38\n",
            "1/1 [==============================] - 0s 17ms/step\n",
            "[[0.28974363 0.38420698 0.32604942]] 1 moderate 38\n",
            "1/1 [==============================] - 0s 17ms/step\n",
            "[[0.2897431  0.38420647 0.32605043]] 1 moderate 38\n",
            "1/1 [==============================] - 0s 16ms/step\n",
            "[[0.28974366 0.38420698 0.32604942]] 1 moderate 38\n",
            "1/1 [==============================] - 0s 17ms/step\n",
            "[[0.28974363 0.38420695 0.32604942]] 1 moderate 38\n",
            "1/1 [==============================] - 0s 18ms/step\n",
            "[[0.28974366 0.38420698 0.32604942]] 1 moderate 38\n",
            "1/1 [==============================] - 0s 16ms/step\n",
            "[[0.2897436  0.38420692 0.32604945]] 1 moderate 38\n",
            "1/1 [==============================] - 0s 19ms/step\n",
            "[[0.28974357 0.38420692 0.32604945]] 1 moderate 38\n",
            "1/1 [==============================] - 0s 21ms/step\n",
            "[[0.28974363 0.38420698 0.32604942]] 1 moderate 38\n",
            "1/1 [==============================] - 0s 17ms/step\n",
            "[[0.28974333 0.3842066  0.32605004]] 1 moderate 38\n",
            "1/1 [==============================] - 0s 17ms/step\n",
            "[[0.28974363 0.38420698 0.32604942]] 1 moderate 38\n",
            "1/1 [==============================] - 0s 17ms/step\n",
            "[[0.28974363 0.38420698 0.32604942]] 1 moderate 38\n",
            "1/1 [==============================] - 0s 18ms/step\n",
            "[[0.28974363 0.38420698 0.32604942]] 1 moderate 38\n",
            "1/1 [==============================] - 0s 18ms/step\n",
            "[[0.28974363 0.38420698 0.32604942]] 1 moderate 38\n",
            "1/1 [==============================] - 0s 18ms/step\n",
            "[[0.2897436  0.38420695 0.32604945]] 1 moderate 38\n",
            "1/1 [==============================] - 0s 19ms/step\n",
            "[[0.28974366 0.38420698 0.32604942]] 1 moderate 38\n",
            "1/1 [==============================] - 0s 17ms/step\n",
            "[[0.28974357 0.38420695 0.32604945]] 1 moderate 38\n",
            "1/1 [==============================] - 0s 17ms/step\n",
            "[[0.28974363 0.38420698 0.32604942]] 1 moderate 38\n",
            "1/1 [==============================] - 0s 18ms/step\n",
            "[[0.28974366 0.38420698 0.32604942]] 1 moderate 38\n",
            "1/1 [==============================] - 0s 21ms/step\n",
            "[[0.28974327 0.38420665 0.32605004]] 1 moderate 38\n",
            "1/1 [==============================] - 0s 17ms/step\n",
            "[[0.28974363 0.38420698 0.32604942]] 1 moderate 38\n",
            "1/1 [==============================] - 0s 17ms/step\n",
            "[[0.28974366 0.38420698 0.32604942]] 1 moderate 38\n",
            "1/1 [==============================] - 0s 17ms/step\n",
            "[[0.28974366 0.38420698 0.32604942]] 1 moderate 38\n",
            "1/1 [==============================] - 0s 19ms/step\n",
            "[[0.28974345 0.38420677 0.32604975]] 1 moderate 38\n",
            "1/1 [==============================] - 0s 18ms/step\n",
            "[[0.2897435  0.38420677 0.32604972]] 1 moderate 38\n",
            "1/1 [==============================] - 0s 20ms/step\n",
            "[[0.2897438  0.38420355 0.32605258]] 1 moderate 38\n",
            "1/1 [==============================] - 0s 19ms/step\n",
            "[[0.28974363 0.38420698 0.32604942]] 1 moderate 38\n",
            "1/1 [==============================] - 0s 20ms/step\n",
            "[[0.2897436  0.38420692 0.3260495 ]] 1 moderate 38\n",
            "1/1 [==============================] - 0s 19ms/step\n",
            "[[0.28974363 0.38420698 0.32604942]] 1 moderate 38\n",
            "1/1 [==============================] - 0s 20ms/step\n",
            "[[0.28974357 0.38420695 0.32604945]] 1 moderate 38\n",
            "1/1 [==============================] - 0s 18ms/step\n",
            "[[0.28974354 0.38420692 0.32604948]] 1 moderate 38\n",
            "1/1 [==============================] - 0s 20ms/step\n",
            "[[0.28974348 0.3842069  0.32604966]] 1 moderate 38\n",
            "1/1 [==============================] - 0s 19ms/step\n",
            "[[0.28974336 0.38420653 0.32605007]] 1 moderate 38\n",
            "1/1 [==============================] - 0s 19ms/step\n",
            "[[0.28974363 0.38420698 0.32604942]] 1 moderate 38\n",
            "1/1 [==============================] - 0s 18ms/step\n",
            "[[0.28974363 0.38420698 0.32604942]] 1 moderate 38\n",
            "1/1 [==============================] - 0s 18ms/step\n",
            "[[0.28974363 0.38420698 0.32604942]] 1 moderate 38\n",
            "1/1 [==============================] - 0s 22ms/step\n",
            "[[0.2897434  0.38420668 0.32604992]] 1 moderate 38\n",
            "1/1 [==============================] - 0s 17ms/step\n",
            "[[0.28974366 0.38420698 0.32604942]] 1 moderate 38\n",
            "1/1 [==============================] - 0s 18ms/step\n",
            "[[0.28974363 0.38420698 0.32604942]] 1 moderate 38\n"
          ]
        }
      ],
      "source": [
        "test_minor_path = '/content/drive/MyDrive/Car Damage Classification/testing/minor'\n",
        "test_moderate_path = '/content/drive/MyDrive/Car Damage Classification/testing/moderate'\n",
        "test_severe_path = '/content/drive/MyDrive/Car Damage Classification/testing/severe'\n",
        "\n",
        "\n",
        "def Test(path,category):\n",
        "\n",
        "  img_names = os.listdir(path)\n",
        "\n",
        "  category_dict = {0 : 'minor', 1 : 'moderate', 2 : 'severe'}\n",
        "\n",
        "  n = 0\n",
        "\n",
        "  for img_name in img_names :\n",
        "\n",
        "    img = cv2.imread(os.path.join(path,img_name))\n",
        "    h,w = img.shape[0:2]\n",
        "\n",
        "    #preprocessing as done for training images\n",
        "\n",
        "    test_img = cv2.resize(img,(250,250))\n",
        "    test_img = cv2.cvtColor(test_img,cv2.COLOR_BGR2RGB) #by default opencv works with BGR so we have to convert it to RGB\n",
        "    test_img = test_img/255\n",
        "    test_img = test_img.reshape(1,250,250,3)\n",
        "    #by default in testing neural network uses 4d as input so we have to pass no of images in first part and last part we pass dimension\n",
        "\n",
        "    results = model.predict(test_img)\n",
        "    label = np.argmax(results,axis = 1)[0] #it returns what is the maximum probability in given row (prediction/max)\n",
        "    acc = int(np.max(results,axis = 1)[0]*100)\n",
        "\n",
        "\n",
        "    if(label == category):\n",
        "      n = n+1\n",
        "  \n",
        "    print(results,label,category_dict[label],acc)\n",
        "\n",
        "  accuracy = n/len(img_names)*100\n",
        "  return accuracy\n",
        "\n",
        "accuracy1 = Test(test_minor_path,0)\n",
        "accuracy2 = Test(test_moderate_path,1)\n",
        "accuracy3 = Test(test_severe_path,2)\n",
        "\n",
        "\n"
      ],
      "id": "M7821BCxr8MS"
    },
    {
      "cell_type": "code",
      "execution_count": null,
      "metadata": {
        "id": "r5Z6u6N-GX-5",
        "colab": {
          "base_uri": "https://localhost:8080/"
        },
        "outputId": "3b25614d-3123-4496-ce75-7c09eb4668bb"
      },
      "outputs": [
        {
          "output_type": "stream",
          "name": "stdout",
          "text": [
            "33.33 %\n"
          ]
        }
      ],
      "source": [
        "#getting average accuracy\n",
        "\n",
        "total_accuracy = (accuracy1 + accuracy2 + accuracy3)/3\n",
        "total_accuracy = round(total_accuracy, 2)\n",
        "print(total_accuracy,'%')"
      ],
      "id": "r5Z6u6N-GX-5"
    }
  ],
  "metadata": {
    "accelerator": "GPU",
    "colab": {
      "provenance": [],
      "include_colab_link": true
    },
    "gpuClass": "standard",
    "kernelspec": {
      "display_name": "Python 3 (ipykernel)",
      "language": "python",
      "name": "python3"
    },
    "language_info": {
      "codemirror_mode": {
        "name": "ipython",
        "version": 3
      },
      "file_extension": ".py",
      "mimetype": "text/x-python",
      "name": "python",
      "nbconvert_exporter": "python",
      "pygments_lexer": "ipython3",
      "version": "3.9.13"
    }
  },
  "nbformat": 4,
  "nbformat_minor": 5
}